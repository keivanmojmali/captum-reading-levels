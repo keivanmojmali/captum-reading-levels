{
 "cells": [
  {
   "cell_type": "markdown",
   "id": "43654f73-5380-4341-828b-b05a363449bb",
   "metadata": {},
   "source": [
    "# Figuring out which features are the most important for classifying reading levels with LLaMA-3\n",
    "\n",
    "## Project Overview\n",
    "\n",
    "In this project, we will utilize the LLaMA-3 model to classify various text passages according to their reading levels. Our primary objective is to not only get the reading level predictions but also to understand the underlying reasons behind these predictions. To achieve this, we will employ the Captum library, which is designed for model interpretability, to identify and analyze the features that are most influential in the model's decision-making process.\n",
    "\n",
    "## Objectives\n",
    "\n",
    "- **Prediction**: Use the LLaMA-3 model to determine the reading levels of various text passages.\n",
    "- **Interpretability**: Implement Captum to dissect the model's predictions and pinpoint the key features that contribute to the determined reading levels.\n"
   ]
  },
  {
   "cell_type": "code",
   "execution_count": 18,
   "id": "1e0b6c9a-e177-46bb-850f-cd51be722ea8",
   "metadata": {},
   "outputs": [
    {
     "name": "stdout",
     "output_type": "stream",
     "text": [
      "Requirement already satisfied: python-dotenv in ./env/lib/python3.12/site-packages (1.0.1)\n"
     ]
    }
   ],
   "source": [
    "!pip install python-dotenv\n",
    "import json\n",
    "import torch\n",
    "import transformers\n",
    "import captum\n",
    "import boto3\n",
    "import pandas as pd\n",
    "import matplotlib.pyplot as plt\n",
    "from transformers import AutoTokenizer, AutoModelForSequenceClassification\n",
    "from captum.attr import IntegratedGradients\n",
    "from dotenv import load_dotenv\n",
    "import os\n",
    "load_dotenv()\n",
    "\n",
    "\n",
    "HUGGING_FACE_TOKEN= os.getenv('HUGGING_FACE_TOKEN')\n",
    "\n",
    "client = boto3.client(\n",
    "    \"bedrock-runtime\",\n",
    "    region_name=os.getenv('REGION_NAME'),\n",
    "    aws_access_key_id=os.getenv('AWS_ACCESS_KEY_ID'),\n",
    "    aws_secret_access_key=os.getenv('AWS_SECRET_ACCESS_KEY'),\n",
    ")\n"
   ]
  },
  {
   "cell_type": "code",
   "execution_count": 15,
   "id": "84a1ce0f-1035-4c46-8a73-6d4beea5a4d6",
   "metadata": {},
   "outputs": [],
   "source": [
    "def llama3_call(size, messages):\n",
    "    \n",
    "    # models from aws bedrock\n",
    "    model = {\n",
    "        \"8b\": \"meta.llama3-8b-instruct-v1:0\",\n",
    "        \"70b\": \"meta.llama3-12b-v1:0\",\n",
    "    }\n",
    "\n",
    "    # tokenizers from huggingface\n",
    "    model_tokenizer = {\n",
    "        \"8b\": \"meta-llama/Meta-Llama-3-8B-Instruct\",\n",
    "        \"70b\": \"meta-llama/Meta-Llama-3-70B-Instruct\",\n",
    "    }\n",
    "\n",
    "    # Set the model ID, e.g., Llama 3 8B Instruct.\n",
    "    model_id = model[size]\n",
    "\n",
    "    # load the tokenizer\n",
    "    tokenizer = AutoTokenizer.from_pretrained(\n",
    "        model_tokenizer[size], token=HUGGING_FACE_TOKEN\n",
    "    )\n",
    "\n",
    "    # Apply the chat template to the messages.\n",
    "    prompt = tokenizer.apply_chat_template(\n",
    "        messages, tokenize=False, add_generation_prompt=True\n",
    "    )\n",
    "\n",
    "    # Format the request payload using the model's native structure.\n",
    "    request = {\n",
    "        \"prompt\": prompt,\n",
    "        # Optional inference parameters:\n",
    "        \"max_gen_len\": 500,\n",
    "        \"temperature\": 0.7,\n",
    "        \"top_p\": 0.9,\n",
    "    }\n",
    "\n",
    "    # Encode and send the request.\n",
    "    response = client.invoke_model(\n",
    "        body=json.dumps(request),\n",
    "        modelId=model_id,\n",
    "    )\n",
    "\n",
    "    response_body = json.loads(response.get(\"body\").read())\n",
    "    content = response_body.get(\"generation\")\n",
    "\n",
    "    return content\n"
   ]
  },
  {
   "cell_type": "code",
   "execution_count": 16,
   "id": "42e55d65-8784-4386-b962-7400a7919aed",
   "metadata": {},
   "outputs": [
    {
     "name": "stderr",
     "output_type": "stream",
     "text": [
      "Special tokens have been added in the vocabulary, make sure the associated word embeddings are fine-tuned or trained.\n"
     ]
    },
    {
     "ename": "ClientError",
     "evalue": "An error occurred (UnrecognizedClientException) when calling the InvokeModel operation: The security token included in the request is invalid.",
     "output_type": "error",
     "traceback": [
      "\u001b[0;31m---------------------------------------------------------------------------\u001b[0m",
      "\u001b[0;31mClientError\u001b[0m                               Traceback (most recent call last)",
      "Cell \u001b[0;32mIn[16], line 10\u001b[0m\n\u001b[1;32m      3\u001b[0m final_prompt \u001b[38;5;241m=\u001b[39m \u001b[38;5;124m\"\u001b[39m\u001b[38;5;124mClassify the reading level of the following passage: I shouldn\u001b[39m\u001b[38;5;124m'\u001b[39m\u001b[38;5;124mt have come to this party. I\u001b[39m\u001b[38;5;124m'\u001b[39m\u001b[38;5;124mm not even sure I belong at this party. That\u001b[39m\u001b[38;5;124m'\u001b[39m\u001b[38;5;124ms not on some bougie shit, either. There are just some places where it\u001b[39m\u001b[38;5;124m'\u001b[39m\u001b[38;5;124ms not enough to be me. Neither version of me. Big D\u001b[39m\u001b[38;5;124m'\u001b[39m\u001b[38;5;124ms spring break party is one of those places. I squeeze through sweaty bodies and follow Kenya, her curls bouncing past her shoulders. A haze lingers over the room, smelling like weed, and music rattles the floor. Some rapper calls out for everybody to Nae-Nae, followed by a bunch of \u001b[39m\u001b[38;5;124m'\u001b[39m\u001b[38;5;124mHeys\u001b[39m\u001b[38;5;124m'\u001b[39m\u001b[38;5;124m as people launch into their own versions. Kenya holds up her cup and dances her way through the crowd. Between the headache from the loud-ass music and the nausea from the weed odor, I\u001b[39m\u001b[38;5;124m'\u001b[39m\u001b[38;5;124mll be amazed if I cross the room without spilling my drink. We break out the crowd. Big D\u001b[39m\u001b[38;5;124m'\u001b[39m\u001b[38;5;124ms house is packed wall-to-wall. I\u001b[39m\u001b[38;5;124m'\u001b[39m\u001b[38;5;124mve always heard that everybody and their momma comes to his spring break parties—well, everybody except me—but damn, I didn\u001b[39m\u001b[38;5;124m'\u001b[39m\u001b[38;5;124mt know it would be this many people. Girls wear their hair colored, curled, laid, and slayed. Got me feeling basic as hell with my ponytail. Guys in their freshest kicks and sagging pants grind so close to girls they just about need condoms. My nana likes to say that spring brings love. Spring in Garden Heights doesn\u001b[39m\u001b[38;5;124m'\u001b[39m\u001b[38;5;124mt always bring love, but it promises babies in the winter. I wouldn\u001b[39m\u001b[38;5;124m'\u001b[39m\u001b[38;5;124mt be surprised if a lot of them are conceived the night of Big D\u001b[39m\u001b[38;5;124m'\u001b[39m\u001b[38;5;124ms party. He always has it on the Friday of spring break because you need Saturday to recover and Sunday to repent. Stop following me and go dance, Starr, Kenya says. People already say you think you all that. I didn\u001b[39m\u001b[38;5;124m'\u001b[39m\u001b[38;5;124mt know so many mind readers lived in Garden Heights. Or that people know me as anything other than Big Mav\u001b[39m\u001b[38;5;124m'\u001b[39m\u001b[38;5;124ms daughter who works in the store. I sip my drink and spit it back out. I knew there would be more than Hawaiian Punch in it, but this is way stronger than I\u001b[39m\u001b[38;5;124m'\u001b[39m\u001b[38;5;124mm used to. They shouldn\u001b[39m\u001b[38;5;124m'\u001b[39m\u001b[38;5;124mt even call it punch. Just straight-up liquor. I put it on the coffee table and say, Folks kill me, thinking they know what I think. Hey, I\u001b[39m\u001b[38;5;124m'\u001b[39m\u001b[38;5;124mm just saying. You act like you don\u001b[39m\u001b[38;5;124m'\u001b[39m\u001b[38;5;124mt know nobody \u001b[39m\u001b[38;5;124m'\u001b[39m\u001b[38;5;124mcause you go to that school. I\u001b[39m\u001b[38;5;124m'\u001b[39m\u001b[38;5;124mve been hearing that for six years, ever since my parents put me in Williamson Prep. Whatever, I mumble. And it wouldn\u001b[39m\u001b[38;5;124m'\u001b[39m\u001b[38;5;124mt kill you to not dress like . . . She turns up her nose as she looks from my sneakers to my oversized hoodie. That. Ain\u001b[39m\u001b[38;5;124m'\u001b[39m\u001b[38;5;124mt that my brother\u001b[39m\u001b[38;5;124m'\u001b[39m\u001b[38;5;124ms hoodie? Our brother\u001b[39m\u001b[38;5;124m'\u001b[39m\u001b[38;5;124ms hoodie. Kenya and I share an older brother, Seven. But she and I aren\u001b[39m\u001b[38;5;124m'\u001b[39m\u001b[38;5;124mt related. Her momma is Seven\u001b[39m\u001b[38;5;124m'\u001b[39m\u001b[38;5;124ms momma, and my dad is Seven\u001b[39m\u001b[38;5;124m'\u001b[39m\u001b[38;5;124ms dad. Crazy, I know. Yeah, it\u001b[39m\u001b[38;5;124m'\u001b[39m\u001b[38;5;124ms his. Figures. You know what else people saying too. Got folks thinking you\u001b[39m\u001b[38;5;124m'\u001b[39m\u001b[38;5;124mre my girlfriend. Do I look like I care what people think? No! And that\u001b[39m\u001b[38;5;124m'\u001b[39m\u001b[38;5;124ms the problem! Whatever. If I knew following her to this party meant she\u001b[39m\u001b[38;5;124m'\u001b[39m\u001b[38;5;124md be on some Extreme Makeover: Starr Edition mess, I would\u001b[39m\u001b[38;5;124m'\u001b[39m\u001b[38;5;124mve stayed home and watched The Fresh Prince reruns. My Jordans are comfortable, and damn, they\u001b[39m\u001b[38;5;124m'\u001b[39m\u001b[38;5;124mre new. That\u001b[39m\u001b[38;5;124m'\u001b[39m\u001b[38;5;124ms more than some people can say. The hoodie\u001b[39m\u001b[38;5;124m'\u001b[39m\u001b[38;5;124ms way too big, but I like it that way. Plus, if I pull it over my nose, I can\u001b[39m\u001b[38;5;124m'\u001b[39m\u001b[38;5;124mt smell the weed. Well, I ain\u001b[39m\u001b[38;5;124m'\u001b[39m\u001b[38;5;124mt babysitting you all night, so you better do something, Kenya says and scopes the room. Kenya could be a model, if I\u001b[39m\u001b[38;5;124m'\u001b[39m\u001b[38;5;124mm completely honest. She\u001b[39m\u001b[38;5;124m'\u001b[39m\u001b[38;5;124ms got flawless dark-brown skin—I don\u001b[39m\u001b[38;5;124m'\u001b[39m\u001b[38;5;124mt think she ever gets a pimple—slanted brown eyes, and long eyelashes that aren\u001b[39m\u001b[38;5;124m'\u001b[39m\u001b[38;5;124mt store-bought. She\u001b[39m\u001b[38;5;124m'\u001b[39m\u001b[38;5;124ms the perfect height for modeling too, but a little thicker than those toothpicks on the runway. She never wears the same outfit twice. Her daddy, King, makes sure of that. Kenya is about the only person I hang out with in Garden Heights—it\u001b[39m\u001b[38;5;124m'\u001b[39m\u001b[38;5;124ms hard to make friends when you go to a school that\u001b[39m\u001b[38;5;124m'\u001b[39m\u001b[38;5;124ms forty-five minutes away and you\u001b[39m\u001b[38;5;124m'\u001b[39m\u001b[38;5;124mre a latchkey kid who\u001b[39m\u001b[38;5;124m'\u001b[39m\u001b[38;5;124ms only seen at her family\u001b[39m\u001b[38;5;124m'\u001b[39m\u001b[38;5;124ms store. It\u001b[39m\u001b[38;5;124m'\u001b[39m\u001b[38;5;124ms easy to hang out with Kenya because of our connection to Seven. She\u001b[39m\u001b[38;5;124m'\u001b[39m\u001b[38;5;124ms messy as hell sometimes, though. Always fighting somebody and quick to say her daddy will whoop somebody\u001b[39m\u001b[38;5;124m'\u001b[39m\u001b[38;5;124ms ass. Yeah it\u001b[39m\u001b[38;5;124m'\u001b[39m\u001b[38;5;124ms true, but I wish she\u001b[39m\u001b[38;5;124m'\u001b[39m\u001b[38;5;124md stop picking fights so she can use her trump card. Hell, I could use mine too. Everybody knows you don\u001b[39m\u001b[38;5;124m'\u001b[39m\u001b[38;5;124mt mess with my dad, Big Mav, and you definitely don\u001b[39m\u001b[38;5;124m'\u001b[39m\u001b[38;5;124mt mess with his kids. Still, you don\u001b[39m\u001b[38;5;124m'\u001b[39m\u001b[38;5;124mt see me going around starting shit. Like at Big D\u001b[39m\u001b[38;5;124m'\u001b[39m\u001b[38;5;124ms party, Kenya is giving Denasia Allen some serious stank eye. I don\u001b[39m\u001b[38;5;124m'\u001b[39m\u001b[38;5;124mt remember much about Denasia, but I remember that she and Kenya haven\u001b[39m\u001b[38;5;124m'\u001b[39m\u001b[38;5;124mt liked each other since fourth grade. Tonight, Denasia\u001b[39m\u001b[38;5;124m'\u001b[39m\u001b[38;5;124ms dancing with some guy halfway across the room and paying no attention to Kenya. But no matter where we move, Kenya spots Denasia and glares at her. And the thing about the stank eye is at some point you feel it on you, inviting you to kick some ass or have your ass kicked. Ooh! I can\u001b[39m\u001b[38;5;124m'\u001b[39m\u001b[38;5;124mt stand her, Kenya seethes. The other day, we were in line in the cafeteria, right? And she behind me, talking out the side of her neck. She didn\u001b[39m\u001b[38;5;124m'\u001b[39m\u001b[38;5;124mt use my name, but I know she was talking \u001b[39m\u001b[38;5;124m'\u001b[39m\u001b[38;5;124mbout me, saying I tried to get with DeVante.\u001b[39m\u001b[38;5;124m\"\u001b[39m\n\u001b[1;32m      5\u001b[0m messages \u001b[38;5;241m=\u001b[39m [\n\u001b[1;32m      6\u001b[0m     {\u001b[38;5;124m\"\u001b[39m\u001b[38;5;124mrole\u001b[39m\u001b[38;5;124m\"\u001b[39m: \u001b[38;5;124m\"\u001b[39m\u001b[38;5;124msystem\u001b[39m\u001b[38;5;124m\"\u001b[39m, \u001b[38;5;124m\"\u001b[39m\u001b[38;5;124mcontent\u001b[39m\u001b[38;5;124m\"\u001b[39m: system_prompt},\n\u001b[1;32m      7\u001b[0m     {\u001b[38;5;124m\"\u001b[39m\u001b[38;5;124mrole\u001b[39m\u001b[38;5;124m\"\u001b[39m: \u001b[38;5;124m\"\u001b[39m\u001b[38;5;124muser\u001b[39m\u001b[38;5;124m\"\u001b[39m, \u001b[38;5;124m\"\u001b[39m\u001b[38;5;124mcontent\u001b[39m\u001b[38;5;124m\"\u001b[39m: final_prompt},\n\u001b[1;32m      8\u001b[0m ]\n\u001b[0;32m---> 10\u001b[0m reading_level_prediciton \u001b[38;5;241m=\u001b[39m llama3_call(\u001b[38;5;124m'\u001b[39m\u001b[38;5;124m8b\u001b[39m\u001b[38;5;124m'\u001b[39m,messages)\n\u001b[1;32m     12\u001b[0m \u001b[38;5;28mprint\u001b[39m(reading_level_prediciton)\n",
      "Cell \u001b[0;32mIn[15], line 38\u001b[0m, in \u001b[0;36mllama3_call\u001b[0;34m(size, messages)\u001b[0m\n\u001b[1;32m     29\u001b[0m request \u001b[38;5;241m=\u001b[39m {\n\u001b[1;32m     30\u001b[0m     \u001b[38;5;124m\"\u001b[39m\u001b[38;5;124mprompt\u001b[39m\u001b[38;5;124m\"\u001b[39m: prompt,\n\u001b[1;32m     31\u001b[0m     \u001b[38;5;66;03m# Optional inference parameters:\u001b[39;00m\n\u001b[0;32m   (...)\u001b[0m\n\u001b[1;32m     34\u001b[0m     \u001b[38;5;124m\"\u001b[39m\u001b[38;5;124mtop_p\u001b[39m\u001b[38;5;124m\"\u001b[39m: \u001b[38;5;241m0.9\u001b[39m,\n\u001b[1;32m     35\u001b[0m }\n\u001b[1;32m     37\u001b[0m \u001b[38;5;66;03m# Encode and send the request.\u001b[39;00m\n\u001b[0;32m---> 38\u001b[0m response \u001b[38;5;241m=\u001b[39m client\u001b[38;5;241m.\u001b[39minvoke_model(\n\u001b[1;32m     39\u001b[0m     body\u001b[38;5;241m=\u001b[39mjson\u001b[38;5;241m.\u001b[39mdumps(request),\n\u001b[1;32m     40\u001b[0m     modelId\u001b[38;5;241m=\u001b[39mmodel_id,\n\u001b[1;32m     41\u001b[0m )\n\u001b[1;32m     43\u001b[0m response_body \u001b[38;5;241m=\u001b[39m json\u001b[38;5;241m.\u001b[39mloads(response\u001b[38;5;241m.\u001b[39mget(\u001b[38;5;124m\"\u001b[39m\u001b[38;5;124mbody\u001b[39m\u001b[38;5;124m\"\u001b[39m)\u001b[38;5;241m.\u001b[39mread())\n\u001b[1;32m     44\u001b[0m content \u001b[38;5;241m=\u001b[39m response_body\u001b[38;5;241m.\u001b[39mget(\u001b[38;5;124m\"\u001b[39m\u001b[38;5;124mgeneration\u001b[39m\u001b[38;5;124m\"\u001b[39m)\n",
      "File \u001b[0;32m~/Desktop/ml-repos/captum-reading-levels/env/lib/python3.12/site-packages/botocore/client.py:565\u001b[0m, in \u001b[0;36mClientCreator._create_api_method.<locals>._api_call\u001b[0;34m(self, *args, **kwargs)\u001b[0m\n\u001b[1;32m    561\u001b[0m     \u001b[38;5;28;01mraise\u001b[39;00m \u001b[38;5;167;01mTypeError\u001b[39;00m(\n\u001b[1;32m    562\u001b[0m         \u001b[38;5;124mf\u001b[39m\u001b[38;5;124m\"\u001b[39m\u001b[38;5;132;01m{\u001b[39;00mpy_operation_name\u001b[38;5;132;01m}\u001b[39;00m\u001b[38;5;124m() only accepts keyword arguments.\u001b[39m\u001b[38;5;124m\"\u001b[39m\n\u001b[1;32m    563\u001b[0m     )\n\u001b[1;32m    564\u001b[0m \u001b[38;5;66;03m# The \"self\" in this scope is referring to the BaseClient.\u001b[39;00m\n\u001b[0;32m--> 565\u001b[0m \u001b[38;5;28;01mreturn\u001b[39;00m \u001b[38;5;28mself\u001b[39m\u001b[38;5;241m.\u001b[39m_make_api_call(operation_name, kwargs)\n",
      "File \u001b[0;32m~/Desktop/ml-repos/captum-reading-levels/env/lib/python3.12/site-packages/botocore/client.py:1021\u001b[0m, in \u001b[0;36mBaseClient._make_api_call\u001b[0;34m(self, operation_name, api_params)\u001b[0m\n\u001b[1;32m   1017\u001b[0m     error_code \u001b[38;5;241m=\u001b[39m error_info\u001b[38;5;241m.\u001b[39mget(\u001b[38;5;124m\"\u001b[39m\u001b[38;5;124mQueryErrorCode\u001b[39m\u001b[38;5;124m\"\u001b[39m) \u001b[38;5;129;01mor\u001b[39;00m error_info\u001b[38;5;241m.\u001b[39mget(\n\u001b[1;32m   1018\u001b[0m         \u001b[38;5;124m\"\u001b[39m\u001b[38;5;124mCode\u001b[39m\u001b[38;5;124m\"\u001b[39m\n\u001b[1;32m   1019\u001b[0m     )\n\u001b[1;32m   1020\u001b[0m     error_class \u001b[38;5;241m=\u001b[39m \u001b[38;5;28mself\u001b[39m\u001b[38;5;241m.\u001b[39mexceptions\u001b[38;5;241m.\u001b[39mfrom_code(error_code)\n\u001b[0;32m-> 1021\u001b[0m     \u001b[38;5;28;01mraise\u001b[39;00m error_class(parsed_response, operation_name)\n\u001b[1;32m   1022\u001b[0m \u001b[38;5;28;01melse\u001b[39;00m:\n\u001b[1;32m   1023\u001b[0m     \u001b[38;5;28;01mreturn\u001b[39;00m parsed_response\n",
      "\u001b[0;31mClientError\u001b[0m: An error occurred (UnrecognizedClientException) when calling the InvokeModel operation: The security token included in the request is invalid."
     ]
    }
   ],
   "source": [
    "system_prompt = \"You are an expert in classifying the reading levels of passages. You read the passages and then assign the grade level that matches the reading level of the passages most closely.\"\n",
    "\n",
    "final_prompt = \"Classify the reading level of the following passage: I shouldn't have come to this party. I'm not even sure I belong at this party. That's not on some bougie shit, either. There are just some places where it's not enough to be me. Neither version of me. Big D's spring break party is one of those places. I squeeze through sweaty bodies and follow Kenya, her curls bouncing past her shoulders. A haze lingers over the room, smelling like weed, and music rattles the floor. Some rapper calls out for everybody to Nae-Nae, followed by a bunch of 'Heys' as people launch into their own versions. Kenya holds up her cup and dances her way through the crowd. Between the headache from the loud-ass music and the nausea from the weed odor, I'll be amazed if I cross the room without spilling my drink. We break out the crowd. Big D's house is packed wall-to-wall. I've always heard that everybody and their momma comes to his spring break parties—well, everybody except me—but damn, I didn't know it would be this many people. Girls wear their hair colored, curled, laid, and slayed. Got me feeling basic as hell with my ponytail. Guys in their freshest kicks and sagging pants grind so close to girls they just about need condoms. My nana likes to say that spring brings love. Spring in Garden Heights doesn't always bring love, but it promises babies in the winter. I wouldn't be surprised if a lot of them are conceived the night of Big D's party. He always has it on the Friday of spring break because you need Saturday to recover and Sunday to repent. Stop following me and go dance, Starr, Kenya says. People already say you think you all that. I didn't know so many mind readers lived in Garden Heights. Or that people know me as anything other than Big Mav's daughter who works in the store. I sip my drink and spit it back out. I knew there would be more than Hawaiian Punch in it, but this is way stronger than I'm used to. They shouldn't even call it punch. Just straight-up liquor. I put it on the coffee table and say, Folks kill me, thinking they know what I think. Hey, I'm just saying. You act like you don't know nobody 'cause you go to that school. I've been hearing that for six years, ever since my parents put me in Williamson Prep. Whatever, I mumble. And it wouldn't kill you to not dress like . . . She turns up her nose as she looks from my sneakers to my oversized hoodie. That. Ain't that my brother's hoodie? Our brother's hoodie. Kenya and I share an older brother, Seven. But she and I aren't related. Her momma is Seven's momma, and my dad is Seven's dad. Crazy, I know. Yeah, it's his. Figures. You know what else people saying too. Got folks thinking you're my girlfriend. Do I look like I care what people think? No! And that's the problem! Whatever. If I knew following her to this party meant she'd be on some Extreme Makeover: Starr Edition mess, I would've stayed home and watched The Fresh Prince reruns. My Jordans are comfortable, and damn, they're new. That's more than some people can say. The hoodie's way too big, but I like it that way. Plus, if I pull it over my nose, I can't smell the weed. Well, I ain't babysitting you all night, so you better do something, Kenya says and scopes the room. Kenya could be a model, if I'm completely honest. She's got flawless dark-brown skin—I don't think she ever gets a pimple—slanted brown eyes, and long eyelashes that aren't store-bought. She's the perfect height for modeling too, but a little thicker than those toothpicks on the runway. She never wears the same outfit twice. Her daddy, King, makes sure of that. Kenya is about the only person I hang out with in Garden Heights—it's hard to make friends when you go to a school that's forty-five minutes away and you're a latchkey kid who's only seen at her family's store. It's easy to hang out with Kenya because of our connection to Seven. She's messy as hell sometimes, though. Always fighting somebody and quick to say her daddy will whoop somebody's ass. Yeah it's true, but I wish she'd stop picking fights so she can use her trump card. Hell, I could use mine too. Everybody knows you don't mess with my dad, Big Mav, and you definitely don't mess with his kids. Still, you don't see me going around starting shit. Like at Big D's party, Kenya is giving Denasia Allen some serious stank eye. I don't remember much about Denasia, but I remember that she and Kenya haven't liked each other since fourth grade. Tonight, Denasia's dancing with some guy halfway across the room and paying no attention to Kenya. But no matter where we move, Kenya spots Denasia and glares at her. And the thing about the stank eye is at some point you feel it on you, inviting you to kick some ass or have your ass kicked. Ooh! I can't stand her, Kenya seethes. The other day, we were in line in the cafeteria, right? And she behind me, talking out the side of her neck. She didn't use my name, but I know she was talking 'bout me, saying I tried to get with DeVante.\"\n",
    "\n",
    "messages = [\n",
    "    {\"role\": \"system\", \"content\": system_prompt},\n",
    "    {\"role\": \"user\", \"content\": final_prompt},\n",
    "]\n",
    "\n",
    "reading_level_prediciton = llama3_call('8b',messages)\n",
    "\n",
    "print(reading_level_prediciton)\n"
   ]
  },
  {
   "cell_type": "code",
   "execution_count": null,
   "id": "00abb2f8-c98a-438f-a4dd-337ef664cf96",
   "metadata": {},
   "outputs": [],
   "source": []
  }
 ],
 "metadata": {
  "kernelspec": {
   "display_name": "Python 3 (ipykernel)",
   "language": "python",
   "name": "python3"
  },
  "language_info": {
   "codemirror_mode": {
    "name": "ipython",
    "version": 3
   },
   "file_extension": ".py",
   "mimetype": "text/x-python",
   "name": "python",
   "nbconvert_exporter": "python",
   "pygments_lexer": "ipython3",
   "version": "3.12.3"
  }
 },
 "nbformat": 4,
 "nbformat_minor": 5
}
