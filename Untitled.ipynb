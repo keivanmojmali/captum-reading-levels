{
 "cells": [
  {
   "cell_type": "markdown",
   "id": "43654f73-5380-4341-828b-b05a363449bb",
   "metadata": {},
   "source": [
    "# Figuring out which features are the most important for classifying reading levels with LLaMA-3\n",
    "\n",
    "## Project Overview\n",
    "\n",
    "In this project, we will utilize the LLaMA-3 model to classify various text passages according to their reading levels. Our primary objective is to not only get the reading level predictions but also to understand the underlying reasons behind these predictions. To achieve this, we will employ the Captum library, which is designed for model interpretability, to identify and analyze the features that are most influential in the model's decision-making process.\n",
    "\n",
    "## Objectives\n",
    "\n",
    "- **Prediction**: Use the LLaMA-3 model to determine the reading levels of various text passages.\n",
    "- **Interpretability**: Implement Captum to dissect the model's predictions and pinpoint the key features that contribute to the determined reading levels.\n"
   ]
  },
  {
   "cell_type": "code",
   "execution_count": 1,
   "id": "1e0b6c9a-e177-46bb-850f-cd51be722ea8",
   "metadata": {},
   "outputs": [],
   "source": [
    "import torch\n",
    "import transformers\n",
    "import captum\n",
    "import boto3\n",
    "import pandas as pd\n",
    "import matplotlib.pyplot as plt\n"
   ]
  },
  {
   "cell_type": "code",
   "execution_count": null,
   "id": "84a1ce0f-1035-4c46-8a73-6d4beea5a4d6",
   "metadata": {},
   "outputs": [],
   "source": []
  }
 ],
 "metadata": {
  "kernelspec": {
   "display_name": "Python 3 (ipykernel)",
   "language": "python",
   "name": "python3"
  },
  "language_info": {
   "codemirror_mode": {
    "name": "ipython",
    "version": 3
   },
   "file_extension": ".py",
   "mimetype": "text/x-python",
   "name": "python",
   "nbconvert_exporter": "python",
   "pygments_lexer": "ipython3",
   "version": "3.12.2"
  }
 },
 "nbformat": 4,
 "nbformat_minor": 5
}
